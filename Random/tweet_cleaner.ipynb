{
 "metadata": {
  "name": ""
 },
 "nbformat": 3,
 "nbformat_minor": 0,
 "worksheets": [
  {
   "cells": [
    {
     "cell_type": "code",
     "collapsed": false,
     "input": [
      "import re\n",
      "import enchant\n",
      "import HTMLParser\n",
      "\n",
      "from constants import original_tweet\n",
      "from itertools import groupby"
     ],
     "language": "python",
     "metadata": {},
     "outputs": [],
     "prompt_number": 20
    },
    {
     "cell_type": "code",
     "collapsed": false,
     "input": [
      "def escapeHTMLChars(tweet):\n",
      "    html_parser = HTMLParser.HTMLParser()\n",
      "    tweet = html_parser.unescape(tweet)\n",
      "    return tweet\n",
      "\n",
      "print escapeHTMLChars(\"I luv my &lt;3 iphone &amp; you're awsm apple. DisplayIsAwesome, sooo happppppy :) http://www.apple.com\")"
     ],
     "language": "python",
     "metadata": {},
     "outputs": [
      {
       "output_type": "stream",
       "stream": "stdout",
       "text": [
        "I luv my <3 iphone & you're awsm apple. DisplayIsAwesome, sooo happppppy :) http://www.apple.com\n"
       ]
      }
     ],
     "prompt_number": 21
    },
    {
     "cell_type": "code",
     "collapsed": false,
     "input": [
      "def decodeData(tweet):\n",
      "    tweet =  tweet.decode(\"utf8\").encode('ascii','ignore')\n",
      "    return tweet\n",
      "\n",
      "print decodeData(\"I luv my &lt;3 iphone &amp; you're awsm apple. DisplayIsAwesome, sooo happppppy :) http://www.apple.com\")"
     ],
     "language": "python",
     "metadata": {},
     "outputs": [
      {
       "output_type": "stream",
       "stream": "stdout",
       "text": [
        "I luv my &lt;3 iphone &amp; you're awsm apple. DisplayIsAwesome, sooo happppppy :) http://www.apple.com\n"
       ]
      }
     ],
     "prompt_number": 22
    },
    {
     "cell_type": "code",
     "collapsed": false,
     "input": [
      "def appostropheLookup(tweet):\n",
      "    from constants import APPOSTROPHES\n",
      "    words = tweet.split()\n",
      "    reformed = [APPOSTROPHES[word] if word in APPOSTROPHES \\\n",
      "    else word for word in words]\n",
      "    reformed = \" \".join(reformed)\n",
      "    return reformed\n",
      "\n",
      "print appostropheLookup(\"I luv my &lt;3 iphone &amp; you're awsm apple. DisplayIsAwesome, sooo happppppy :) http://www.apple.com\")"
     ],
     "language": "python",
     "metadata": {},
     "outputs": [
      {
       "output_type": "stream",
       "stream": "stdout",
       "text": [
        "I luv my &lt;3 iphone &amp; you are awsm apple. DisplayIsAwesome, sooo happppppy :) http://www.apple.com\n"
       ]
      }
     ],
     "prompt_number": 23
    },
    {
     "cell_type": "code",
     "collapsed": false,
     "input": [
      "def removeEmoji(tweet):\n",
      "    myre = re.compile(u'['\n",
      "        u'\\U0001F300-\\U0001F64F'\n",
      "        u'\\U0001F680-\\U0001F6FF'\n",
      "        u'\\u2600-\\u26FF\\u2700-\\u27BF]+',\n",
      "        re.UNICODE)\n",
      "\n",
      "    tweet = myre.sub('', tweet)\n",
      "    return tweet\n",
      "\n",
      "print removeEmoji(u'Some example text with a sleepy face: \\U0001f62a')"
     ],
     "language": "python",
     "metadata": {},
     "outputs": [
      {
       "output_type": "stream",
       "stream": "stdout",
       "text": [
        "Some example text with a sleepy face: \n"
       ]
      }
     ],
     "prompt_number": 24
    },
    {
     "cell_type": "code",
     "collapsed": false,
     "input": [
      "def splitAttachedWords(tweet):\n",
      "    tweet = \" \".join(re.findall('[A-Z][^A-Z]*', original_tweet))\n",
      "    return tweet\n",
      "\n",
      "print splitAttachedWords(\"I luv my &lt;3 iphone &amp; you're awsm apple. DisplayIsAwesome, sooo happppppy :) http://www.apple.com\")"
     ],
     "language": "python",
     "metadata": {},
     "outputs": [
      {
       "output_type": "stream",
       "stream": "stdout",
       "text": [
        "I luv my &lt;3 iphone &amp; you're awsm apple.  Display Is Awesome, sooo happppppy :) http://www.apple.com\n"
       ]
      }
     ],
     "prompt_number": 25
    },
    {
     "cell_type": "code",
     "collapsed": false,
     "input": [
      "def standardizeWords(tweet):\n",
      "    tweet = ''.join(''.join(s)[:2] for _, s in groupby(tweet))\n",
      "    return tweet\n",
      "\n",
      "print standardizeWords(\"I luv my &lt;3 iphone &amp; you're awsm apple. DisplayIsAwesome, sooo happppppy :) http://www.apple.com\")"
     ],
     "language": "python",
     "metadata": {},
     "outputs": [
      {
       "output_type": "stream",
       "stream": "stdout",
       "text": [
        "I luv my &lt;3 iphone &amp; you're awsm apple. DisplayIsAwesome, soo happy :) http://ww.apple.com\n"
       ]
      }
     ],
     "prompt_number": 26
    },
    {
     "cell_type": "code",
     "collapsed": false,
     "input": [
      "def removeLinks(tweet):\n",
      "    links_re = re.compile(\"(@[A-Za-z0-9]+)|([^0-9A-Za-z \\t])|(\\w+:\\/\\/\\S+)\")\n",
      "    tweet = links_re.sub(\" \",tweet)\n",
      "    tweet = ' '.join(tweet.split())\n",
      "    return tweet\n",
      "\n",
      "print removeLinks(\"I luv my &lt;3 iphone &amp; you're awsm apple. DisplayIsAwesome, sooo happppppy :) http://www.apple.com\")"
     ],
     "language": "python",
     "metadata": {},
     "outputs": [
      {
       "output_type": "stream",
       "stream": "stdout",
       "text": [
        "I luv my lt 3 iphone amp you re awsm apple DisplayIsAwesome sooo happppppy\n"
       ]
      }
     ],
     "prompt_number": 27
    },
    {
     "cell_type": "code",
     "collapsed": false,
     "input": [
      "def removeSlangs(tweet):\n",
      "    from constants import SLANGS\n",
      "    words = tweet.split()\n",
      "    reformed = ['****' if word in SLANGS else word for word in words ]\n",
      "    reformed = \" \".join(reformed)\n",
      "    return reformed\n",
      "\n",
      "print removeSlangs(\"fuck this shit\")"
     ],
     "language": "python",
     "metadata": {},
     "outputs": [
      {
       "output_type": "stream",
       "stream": "stdout",
       "text": [
        "**** this ****\n"
       ]
      }
     ],
     "prompt_number": 28
    },
    {
     "cell_type": "code",
     "collapsed": false,
     "input": [
      "def removeNonEnglishTweets(tweet):\n",
      "    words = tweet.split()\n",
      "    d = enchant.Dict(\"en_US\")\n",
      "    flag = 0\n",
      "    for word in words:\n",
      "        if not d.check(word):\n",
      "            flag = 1\n",
      "            break\n",
      "\n",
      "    if flag:\n",
      "        return ''\n",
      "    else:\n",
      "        return tweet\n",
      "\n",
      "print \"Tweet in complete english stays the same: \" + removeNonEnglishTweets(\"This is my tweet\")\n",
      "print \"Tweet not in complete english is replaced by blank \" + removeNonEnglishTweets(\"Yeh mera tweet hai\")"
     ],
     "language": "python",
     "metadata": {},
     "outputs": [
      {
       "output_type": "stream",
       "stream": "stdout",
       "text": [
        "Tweet in complete english stays the same: This is my tweet\n",
        "Tweet not in complete english is replaced by blank \n"
       ]
      }
     ],
     "prompt_number": 29
    },
    {
     "cell_type": "code",
     "collapsed": false,
     "input": [],
     "language": "python",
     "metadata": {},
     "outputs": [],
     "prompt_number": 29
    }
   ],
   "metadata": {}
  }
 ]
}